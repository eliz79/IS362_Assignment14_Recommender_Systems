{
 "cells": [
  {
   "cell_type": "markdown",
   "metadata": {},
   "source": [
    "<div align=\"center\"> <b> <span style='color:orange'> <h1> IS 362 - RECOMMENDER SYSTEM </h1> </span> </b> </div>"
   ]
  },
  {
   "cell_type": "markdown",
   "metadata": {},
   "source": [
    "<h1> Amazon </h1>\n",
    "\n",
    "Your task is to analyze an existing recommender system that you find interesting. You should: \n",
    "<ul> \n",
    "\n",
    "<li> Perform a Scenario Design analysis as described below.  Consider whether it makes sense for your selected recommender system to perform scenario design twice, once for the organization (e.g. Amazon.com) and once for the organization's customers.</li>\n",
    "\n",
    "<li> Attempt to reverse engineer what you can about the site, from the site interface and any available information that you can find on the Internet or elsewhere. </li>\n",
    "\n",
    "<li> Include specific recommendations about how to improve the site's recommendation capabilities going forward.</li>\n",
    "</ul>\n",
    "<br />\n",
    "\n",
    "For this assignment I have decided to use Amazon as the recommendation system. A [recommender system](https://en.wikipedia.org/wiki/Recommender_system) is a subclass of information filtering system that seeks to predict the <i>\"rating\"</i> or <i>\"preference\"</i> that a user would give to an item. An example of such is [Netflix](https://www.netflix.com/); which recommends what movie to watch or [Amazon](https://www.amazon.com/) as to what product to purchase next. Not only companies such as Netflix or Amazon recommend products or movies, but social media sites such as Facebook or Twitter will recommend people as well to follow. Through algorithms recommendations are made based on user preference or interests. But are recommendation systems reliable? Can a process of trying to guess what users wants, needs, or wishes to look at next be effective? In some cases, it can be. When using recommendation systems, one must be able to answer a <b>Scenario Design Analysis</b> with the following questions: \n",
    "<ul>\n",
    "<li> Who are your target users? </li>\n",
    "<li> What are their key goals? </li>\n",
    "<li> How can you help them accomplish their goals? </li></ul>\n",
    "\n",
    "<br />\n",
    "\n",
    "<div align=\"center\"><b>MY AMAZON SCENARIO DESIGN ANALYSIS </b></div>\n",
    "\n",
    "<ul>\n",
    "<li><b> TARGET USERS? </b></li> The target users are you and I – the consumers. Consumer who are able to access the internet or any form of mobile device. As users we initiate the clicks necessary for <i>“data”</i> gathering. The targets <i>(users/consumers)</i> click on various products which they may or may not purchase. Purchased or not will gather enough data to to help Amazon determine some recommendations for the next time you decide to log on. With such data users will be recommended other products aside from the one browsed along with any possible discounts if available. \n",
    "\n",
    "<li><b>\tKEY GOALS? </b></li> One major key goal Amazon has is REVENUE. Aside from revenue Amazon aims to have users to come back to their site. When user’s go online they will usually browse to purchase something they need and through recommendations they can as well purchase something else they want. This causes revenue for Amazon. Not only can users purchase more items than intended, but as well Amazon offers users more options. Options include applying for an Amazon credit cards or becoming a Prime member. Before every purchase Amazon usually offers users to apply for an Amazon credit card which can give them an immediate discount along with some other rewards. So not only now will Amazon have more revenue, but users can get deals on items from rated sellers as well as having an easy and convenient way of purchasing goods with some perks. \n",
    "\n",
    "<li><b> HELP ACCOMPLISH GOALS? </b></li> These goals can be accomplished by offering reviews on products along with deals. Amazon can help their clients accomplish these goals by maintaining their site innovative, reliable, and overall secure. Amazon needs to oversee their sellers as well as their buyers to continue to be reliable and trust worthy.  For Amazon to continue to deliver with excellence the way they must now, they need to ensure users that the recommendations are good, reliable, and secure to buy. Once recommendations become ineffective users will stop browsing and purchasing items from the site. If users stop purchasing that means, there will be a loss in revenue.<br/>\n",
    "\n",
    "In conclusion, I believe that Amazon can continue to be one of the largest e-commerce if they continue to be innovative. Offering deals as they have this year for Prime users and non-Prime users. Creating and selling their own products such as the Echo Dot, Amazon Key, Amazon Fresh, and Fire Sticks. It can as well continue to offer rewards using surveys to learn more about what users <i>(consumers)</i> want to see and buy more. They as well can continue to send off-site recommendations for users to buy or browse some more. Keeping creative and innovation will help Amazon reach their goals and users to."
   ]
  }
 ],
 "metadata": {
  "kernelspec": {
   "display_name": "Python 3",
   "language": "python",
   "name": "python3"
  },
  "language_info": {
   "codemirror_mode": {
    "name": "ipython",
    "version": 3
   },
   "file_extension": ".py",
   "mimetype": "text/x-python",
   "name": "python",
   "nbconvert_exporter": "python",
   "pygments_lexer": "ipython3",
   "version": "3.5.4"
  }
 },
 "nbformat": 4,
 "nbformat_minor": 2
}
